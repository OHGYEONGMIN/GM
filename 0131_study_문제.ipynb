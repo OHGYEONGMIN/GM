{
 "cells": [
  {
   "cell_type": "markdown",
   "metadata": {},
   "source": [
    "# 1\n",
    "### 홀만 출력하세요\n",
    "### string = \"홀짝홀짝홀짝홀짝홀짝\""
   ]
  },
  {
   "cell_type": "code",
   "execution_count": 11,
   "metadata": {},
   "outputs": [
    {
     "data": {
      "text/plain": [
       "'홀홀홀홀홀'"
      ]
     },
     "execution_count": 11,
     "metadata": {},
     "output_type": "execute_result"
    }
   ],
   "source": [
    "string = \"홀짝홀짝홀짝홀짝홀짝\"\n",
    "string[::2]"
   ]
  },
  {
   "cell_type": "markdown",
   "metadata": {},
   "source": [
    "# 2\n",
    "### 민희는 아이스크림을 먹고 싶어한다\n",
    "### 편의점에 갔는데 아이스크림의 가격과 종류가 다음과 같이 있을 때\n",
    "### icecream = {'탱크보이': 1200, '폴라포': 1200, '빵빠레': 1800, '월드콘': 1500, '메로나': 1000}\n",
    "### 아이스크림 금액의 총합을 출력하세요"
   ]
  },
  {
   "cell_type": "code",
   "execution_count": 40,
   "metadata": {},
   "outputs": [
    {
     "data": {
      "text/plain": [
       "6700"
      ]
     },
     "execution_count": 40,
     "metadata": {},
     "output_type": "execute_result"
    }
   ],
   "source": [
    "icecream = {'탱크보이': 1200, '폴라포': 1200, '빵빠레': 1800, '월드콘': 1500, '메로나': 1000}\n",
    "sum(icecream.values())\n"
   ]
  },
  {
   "cell_type": "markdown",
   "metadata": {},
   "source": [
    "# 3\n",
    "#### 경민은 두 정수 a, b가 주어졌을 때 a와 b 사이에 속한 모든 정수의 합을 리턴하는 함수, solution을 완성하고싶습니다..\n",
    "#### 경민을 도와 함수를 완성시켜주세요~~\n",
    "#### 예를 들어 a = 3, b = 5인 경우, 3 + 4 + 5 = 12이므로 12를 리턴합니다.\n",
    "\n",
    "#### 제한 조건\n",
    "- a와 b가 같은 경우는 둘 중 아무 수나 리턴하세요.\n",
    "- a와 b는 -10,000,000 이상 10,000,000 이하인 정수입니다.\n",
    "- a와 b의 대소관계는 정해져있지 않습니다.\n",
    "\n",
    "#### 문제 a,b=182,340\n",
    "#### 문제의도 : 알고리즘보다는 조건문 사용 방법\n"
   ]
  },
  {
   "cell_type": "code",
   "execution_count": 46,
   "metadata": {},
   "outputs": [
    {
     "name": "stdout",
     "output_type": "stream",
     "text": [
      "첫번째 정수>>4\n",
      "두번째 정수>>7\n",
      "22\n"
     ]
    }
   ],
   "source": [
    "a = int(input(\"첫번째 정수>>\"))\n",
    "b = int(input(\"두번째 정수>>\"))\n",
    "sum = 0\n",
    "if a==b:\n",
    "    sum = a\n",
    "else:\n",
    "    for i in range(a,b+1):\n",
    "        sum = sum+i\n",
    "\n",
    "print(sum)"
   ]
  },
  {
   "cell_type": "markdown",
   "metadata": {},
   "source": [
    "# 4\n",
    "### 다음 문장으로부터 모음('aeiou')을 제거해주세요\n",
    "### 리스트 내포 사용\n",
    "### (굳이 안해도 되는데 남의 코드 볼때 모르면 안되니까\n",
    "### 또한 가독성 좋다)\n",
    "\n",
    "##### Python is powerful... and fast; plays well with others; runs everywhere; is friendly & easy to learn; is Open.\n"
   ]
  },
  {
   "cell_type": "code",
   "execution_count": 49,
   "metadata": {},
   "outputs": [
    {
     "ename": "SyntaxError",
     "evalue": "invalid syntax (<ipython-input-49-52b2a8f5ff8a>, line 2)",
     "output_type": "error",
     "traceback": [
      "\u001b[1;36m  File \u001b[1;32m\"<ipython-input-49-52b2a8f5ff8a>\"\u001b[1;36m, line \u001b[1;32m2\u001b[0m\n\u001b[1;33m    list1 = [Python is powerful... and fast; plays well with others; runs everywhere; is friendly & easy to learn; is Open.]\u001b[0m\n\u001b[1;37m                               ^\u001b[0m\n\u001b[1;31mSyntaxError\u001b[0m\u001b[1;31m:\u001b[0m invalid syntax\n"
     ]
    }
   ],
   "source": [
    "mo = [a,e,i,o,u]\n",
    "list1 = [Python is powerful... and fast; plays well with others; runs everywhere; is friendly & easy to learn; is Open.]\n",
    "output = [list1 for i in mo if i==list1: list1.remove(i)]\n",
    "print(output)\n",
    "\n"
   ]
  },
  {
   "cell_type": "markdown",
   "metadata": {},
   "source": [
    "# 5\n",
    "### 1~10까지의 정수를 항목으로 갖는 리스트 객체에서 filter 함수와 람다식을 이용해\n",
    "### 짝수만을 선택한 후, map 함수와 람다식을 이용해 항목의 제곱 값을 갖는 리스트를 반환하는\n",
    "### 프로그램을 작성해주세요\n"
   ]
  },
  {
   "cell_type": "code",
   "execution_count": 60,
   "metadata": {},
   "outputs": [
    {
     "name": "stdout",
     "output_type": "stream",
     "text": [
      "[2, 4, 6, 8, 10]\n",
      "[4, 16, 36, 64, 100]\n"
     ]
    }
   ],
   "source": [
    "list2 = [1,2,3,4,5,6,7,8,9,10]\n",
    "eve = lambda x: x%2 == 0\n",
    "even = filter(eve,list2)\n",
    "list_even = list(even)\n",
    "print(list_even)\n",
    "eve2 = lambda x: x**2\n",
    "even2 = map(eve2, list_even)\n",
    "print(list(even2))\n"
   ]
  },
  {
   "cell_type": "markdown",
   "metadata": {},
   "source": [
    "# 6\n",
    "### 팰린드롬이란 앞으로 읽을 때와 거꾸로 읽을 때 똑같은 단어를 말한다.\n",
    "### 알파벳 소문자로만 이루어진 단어가 주어진다. \n",
    "### 이때, 이 단어가 팰린드롬인지 아닌지 확인하는 프로그램을 작성해주세요\n",
    "### level, noon은 팰린드롬이고, online, judge는 팰린드롬이 아니다.\n",
    "### (간단한 재귀함수 문제 )\n",
    "### (재귀함수로 안풀어도 된다)"
   ]
  },
  {
   "cell_type": "code",
   "execution_count": 95,
   "metadata": {},
   "outputs": [
    {
     "name": "stdout",
     "output_type": "stream",
     "text": [
      "영어를 입력하세요 >> level\n",
      "팰린드롬\n"
     ]
    }
   ],
   "source": [
    "u = input(\"영어를 입력하세요 >> \")\n",
    "list1 =[]\n",
    "list2 =[]\n",
    "list1 = u[0:]\n",
    "list2 = u[::-1]\n",
    "if list1 == list2:\n",
    "    print(\"팰린드롬\")\n",
    "else:\n",
    "    print(\"팰린드롬이 아니다\")"
   ]
  },
  {
   "cell_type": "markdown",
   "metadata": {},
   "source": [
    "# 7\n",
    "### 가변형 매개변수를 전달 받아 가장 큰 값을 반환하는 함수를 정의하고,\n",
    "### 결과를 출력하는 프로그램을 작성해주세요\n"
   ]
  },
  {
   "cell_type": "code",
   "execution_count": 84,
   "metadata": {},
   "outputs": [
    {
     "name": "stdout",
     "output_type": "stream",
     "text": [
      "5\n"
     ]
    }
   ],
   "source": [
    "def function(*values):\n",
    "    max = 0\n",
    "    for value in values:\n",
    "        if max < value:\n",
    "            max = value\n",
    "    return max\n",
    "\n",
    "print(function(2,3,4,5,1))"
   ]
  },
  {
   "cell_type": "markdown",
   "metadata": {},
   "source": [
    "# 8\n",
    "## 리스트 내포 기능을 이용하여 1부터 20 사이의 숫자중\n",
    "## 3의 배수가 아니거나 5의 배수가 아닌 숫자들의 제곱 값으로 구성된\n",
    "## 리스트 객체를 출력하는 프로그램을 만들어주세요!!\n",
    "\n",
    "### (여기까지 초중급, 책찾아보면서 할수있게 함\n",
    "### 다음부터 알고리즘 + 중급)\n"
   ]
  },
  {
   "cell_type": "code",
   "execution_count": 94,
   "metadata": {},
   "outputs": [
    {
     "data": {
      "text/plain": [
       "[9, 16, 36, 49, 64, 81, 121, 144, 169, 196, 324, 361]"
      ]
     },
     "execution_count": 94,
     "metadata": {},
     "output_type": "execute_result"
    }
   ],
   "source": [
    "list1 = list(range(1,21,1))\n",
    "list2 = [i**2 for i in list1 if (i%3)!=0 |(i%5)!=0]\n",
    "list2"
   ]
  },
  {
   "cell_type": "markdown",
   "metadata": {},
   "source": [
    "# 9 \n",
    "- 그리디 알고리즘 :\n",
    "- 당장 눈 앞에 보이는 최적의 상황만을 쫓는 알고리즘으로 알고리즘 형태중 가장 단순하다\n",
    "- 무조건 큰 경우대로, 무조건 작은경우대로, 무조건 짧은경우대로 극단적으로 문제에 접근\n",
    "- 각 숫자 자릿수의 합이 3의배수면 전체 숫자는 항상 3의 배수가 된다\n",
    "\n",
    "### 어느 날, 현석은 우연히 길거리에서 양수 N을 보았다. 현석은 30이란 수를 존경하기 때문에, 그는 길거리에서 찾은 수에 포함된 숫자들을 섞어 30의 배수가 되는 가장 큰 수를 만들고 싶어한다.\n",
    "### 현석을 도와 그가 만들고 싶어하는 수를 계산하는 프로그램을 작성해주세요!!\n",
    "### N을 입력받는다. N는 최대 10^5개의 숫자로 구성되어 있으며, 0으로 시작하지 않는다.\n",
    "### 현석이 만들고 싶어하는 수가 존재한다면 그 수를 출력하라. 그 수가 존재하지 않는다면, -1을 출력하라.\n",
    "### 30 -> 30  102 - > 210   2931-> -1   80875542 -> 88755420\n",
    "#### 출처 백준 10610"
   ]
  },
  {
   "cell_type": "code",
   "execution_count": null,
   "metadata": {},
   "outputs": [],
   "source": []
  },
  {
   "cell_type": "markdown",
   "metadata": {},
   "source": [
    "# 10\n",
    "- 분할정복 분할 정복법(Divide and Conquer)은 엄청나게 크고 방대한 문제를 조금씩 조금씩 나눠가면서 \n",
    "- 용이하게 풀 수 있는 문제 단위로 나눈 다음 그것들을 다시 합쳐서 해결하자는 개념에서 출발하였다. \n",
    "- 대표적으로는 퀵소트 나 병합정렬이 있다\n",
    "- 보통 재귀함수를 많이 사용한다\n",
    "\n",
    "\n",
    "\n",
    "### 정수 4를 1,2,3의 합으로 나타내는 방법은 총 7가지가 있다\n",
    "### 1+1+1+1\n",
    "### 1+1+2\n",
    "### 1+2+1\n",
    "### 2+1+1\n",
    "### 2+2\n",
    "### 1+3\n",
    "### 3+1\n",
    "### 문제!! 정수 n이 주어졌을때, n을 1,2,3으로 나타내는 방법의 수를 구하는 프로그램을 작성하세요~~\n",
    "#### 제한조건 n은 11보다 작다 (그이상하면 숫자 커짐)\n",
    "### 4 -> 7   7->44 10 -> 274 12-> 927"
   ]
  },
  {
   "cell_type": "code",
   "execution_count": null,
   "metadata": {},
   "outputs": [],
   "source": []
  },
  {
   "cell_type": "code",
   "execution_count": null,
   "metadata": {},
   "outputs": [],
   "source": []
  },
  {
   "cell_type": "code",
   "execution_count": null,
   "metadata": {},
   "outputs": [],
   "source": []
  },
  {
   "cell_type": "code",
   "execution_count": null,
   "metadata": {},
   "outputs": [],
   "source": []
  },
  {
   "cell_type": "code",
   "execution_count": null,
   "metadata": {},
   "outputs": [],
   "source": []
  },
  {
   "cell_type": "markdown",
   "metadata": {},
   "source": [
    "# 문제  폐기\n",
    "\n",
    "### 1000까지의 소수의 개수를 구하시오\n",
    "### hint : 에라토스테네스의체\n",
    "### (기초 알고리즘)\n",
    "### 모듈 있긴한데 알고리즘으로 풀어주셨으면 합니다....\n"
   ]
  },
  {
   "cell_type": "markdown",
   "metadata": {},
   "source": [
    "- 다음의 결과와 같이 구구단 2단부터 9단의 결과값 중에 3의 배수거나 7의 배수인 수를\n",
    "\n",
    "- 제외한 값을 리스트 객체 result 안에 각 단마다 리스트를 만들어 삽입하고 이를 출력하십시오."
   ]
  },
  {
   "cell_type": "markdown",
   "metadata": {},
   "source": [
    "# 포맷팅문제\n",
    "- 트리 모양 만드세요"
   ]
  },
  {
   "cell_type": "code",
   "execution_count": null,
   "metadata": {},
   "outputs": [],
   "source": []
  },
  {
   "cell_type": "markdown",
   "metadata": {},
   "source": [
    "# 1~9 사이의 정수 a를 입력받아 a + aa + aaa + aaaa 의 값을 계산하는 프로그램을 작성하십시오.\n"
   ]
  },
  {
   "cell_type": "markdown",
   "metadata": {},
   "source": [
    "#  10진수를 2진수로 변환하는 프로그램을 작성하십시오."
   ]
  },
  {
   "cell_type": "markdown",
   "metadata": {},
   "source": [
    "# 매개변수로 전달된 숫자를 이용해 카운트다운하는 함수 countdown을 정의하고,\n",
    "# countdown(0), countdown(10)을 순서대로 실행하십시오.\n",
    "# 0보다 작거나 같은 인자가 전달되었을 경우 \"카운트다운을 하려면 0보다 큰 입력이 필요합니다.\"를 출력하십시오. "
   ]
  },
  {
   "cell_type": "markdown",
   "metadata": {},
   "source": [
    "# enumerate\n",
    "- student라는 list에 손준호, 오유정, 오경민, 장현석, 김민희, 도한재 입력하고\n",
    "- enumerate를 사용해 각각 이름에 순서를 넣어주는 프로그램 만들어주세요"
   ]
  }
 ],
 "metadata": {
  "kernelspec": {
   "display_name": "Python 3",
   "language": "python",
   "name": "python3"
  },
  "language_info": {
   "codemirror_mode": {
    "name": "ipython",
    "version": 3
   },
   "file_extension": ".py",
   "mimetype": "text/x-python",
   "name": "python",
   "nbconvert_exporter": "python",
   "pygments_lexer": "ipython3",
   "version": "3.8.3"
  }
 },
 "nbformat": 4,
 "nbformat_minor": 4
}
