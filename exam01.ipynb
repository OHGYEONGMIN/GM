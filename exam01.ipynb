{
 "cells": [
  {
   "cell_type": "code",
   "execution_count": 1,
   "metadata": {},
   "outputs": [
    {
     "name": "stdout",
     "output_type": "stream",
     "text": [
      "15\n"
     ]
    }
   ],
   "source": [
    "x = 10\n",
    "y = 5\n",
    "\n",
    "print(x+y)"
   ]
  },
  {
   "cell_type": "code",
   "execution_count": 2,
   "metadata": {},
   "outputs": [
    {
     "name": "stdout",
     "output_type": "stream",
     "text": [
      "이름을 입력하세요하이\n",
      "하이\n"
     ]
    }
   ],
   "source": [
    "#입력\n",
    "name = input('이름을 입력하세요')\n",
    "\n",
    "#당신의 이름은 나예호입니다.\n",
    "print(name)"
   ]
  },
  {
   "cell_type": "code",
   "execution_count": 4,
   "metadata": {},
   "outputs": [
    {
     "name": "stdout",
     "output_type": "stream",
     "text": [
      "하이는21살입니다\n"
     ]
    }
   ],
   "source": [
    "age = 21\n",
    "#나예호는 21살 입니다.\n",
    "print(name + \"는\" + str(age) + \"살입니다\")"
   ]
  },
  {
   "cell_type": "code",
   "execution_count": 3,
   "metadata": {},
   "outputs": [
    {
     "name": "stdout",
     "output_type": "stream",
     "text": [
      "첫 번째 정수 입력 : 10\n",
      "두 번째 정수 입력 : 20\n",
      "10 과20 합은30 입니다.\n",
      "10과 20의 합은 30입니다.\n"
     ]
    }
   ],
   "source": [
    "num1 = input('첫 번째 정수 입력 : ')\n",
    "num2 = input('두 번째 정수 입력 : ')\n",
    "sum = int(num1)+int(num2)\n",
    "print(str(num1)+' 과'+str(num2)+' 합은'+str(sum)+' 입니다.')\n",
    "print('{}과 {}의 합은 {}입니다.'.format(num1, num2, sum))\n",
    "print(num1//num2) #몫만 구할때 쓴다.\n"
   ]
  },
  {
   "cell_type": "code",
   "execution_count": 13,
   "metadata": {},
   "outputs": [
    {
     "name": "stdout",
     "output_type": "stream",
     "text": [
      "초 입력 : 4542525\n",
      "1261시 48분 45초\n"
     ]
    }
   ],
   "source": [
    "num = int(input('초 입력 : '))\n",
    "hour = num//3600\n",
    "minute = num%3600//60\n",
    "second = num%3600%60%60\n",
    "\n",
    "print('{}시 {}분 {}초'.format(hour, minute, second))"
   ]
  },
  {
   "cell_type": "markdown",
   "metadata": {},
   "source": [
    "# 리스트명 = [요소1, 요소2, 요소3]"
   ]
  },
  {
   "cell_type": "code",
   "execution_count": 22,
   "metadata": {},
   "outputs": [],
   "source": [
    "a = []\n",
    "b = [1, 2, 3]\n",
    "c = ['Life', 'is', 'too', 'short']\n",
    "d = [1, 2, 'Life', 'is']\n",
    "e = [1, 2, ['Life', 'is']]"
   ]
  },
  {
   "cell_type": "code",
   "execution_count": 29,
   "metadata": {},
   "outputs": [
    {
     "name": "stdout",
     "output_type": "stream",
     "text": [
      "['Life', 'is']\n",
      "Life is\n"
     ]
    }
   ],
   "source": [
    "#리스트명 [인덱스] ---> 인덱싱\n",
    "#요소1 : 요소2 --->요소 1부터 요소 2 앞까지\n",
    "\n",
    "print(c[:2])\n",
    "print(c[0],c[1])  #문자열을 출력함!"
   ]
  },
  {
   "cell_type": "code",
   "execution_count": 48,
   "metadata": {},
   "outputs": [
    {
     "name": "stdout",
     "output_type": "stream",
     "text": [
      "[50, 34, 30, 20]\n",
      "[50, 34, 30, 20]\n",
      "[10, 40, 50, 34, 30]\n",
      "[10, 40, 50, 34, 30]\n"
     ]
    }
   ],
   "source": [
    "list2 = [10,40,50,34,30,20,26,90]\n",
    "#50부터 20까지 요소를 출력\n",
    "print(list2[2:6:1])\n",
    "print(list2[-6:-2:1])\n",
    "#10부터 30까지\n",
    "print(list2[0:5:1])\n",
    "print(list2[-8:-3:1])"
   ]
  },
  {
   "cell_type": "code",
   "execution_count": 73,
   "metadata": {},
   "outputs": [
    {
     "name": "stdout",
     "output_type": "stream",
     "text": [
      "['얼큰수제비', '불족발']\n",
      "['얼큰수제비', '불족발']\n"
     ]
    }
   ],
   "source": [
    "list3 = ['소고기짬뽕','치킨','낙지덮밥','얼큰수제비','불족발','랍스타']\n",
    "#인덱싱을 통해서 랍스타를 출력해주세요.\n",
    "print(list3[-3:5])\n",
    "print(list3[3:-1])"
   ]
  },
  {
   "cell_type": "code",
   "execution_count": 78,
   "metadata": {},
   "outputs": [
    {
     "name": "stdout",
     "output_type": "stream",
     "text": [
      "[3, ['a', 'b', 'c'], 4]\n",
      "['a', 'b']\n"
     ]
    }
   ],
   "source": [
    "array = [1, 2, 3, ['a', 'b', 'c'], 4, 5]\n",
    "#3[3,['a','b','c'],4] 출력\n",
    "#['a','b']만 출력\n",
    "\n",
    "print(array[2:5])\n",
    "print(array[3][0:2])"
   ]
  },
  {
   "cell_type": "code",
   "execution_count": 87,
   "metadata": {},
   "outputs": [
    {
     "name": "stdout",
     "output_type": "stream",
     "text": [
      "python is very easy\n",
      "'python is very easy.' he said.\n",
      "Life ins too short. \n",
      "You need Python\n"
     ]
    }
   ],
   "source": [
    "#python is very easy\n",
    "#str2를 출력하세요\n",
    "\n",
    "str2 = 'python is very easy'\n",
    "print(str2)\n",
    "\n",
    "#'python is very easy.' he said. 를 str3에 대입하세요.\n",
    "#str3를 출력하세요\n",
    "str3 = '\\'python is very easy.\\' he said.'\n",
    "print(str3)\n",
    "#str4 = ''''''\n",
    "\n",
    "multiline = 'Life ins too short. \\nYou need Python'\n",
    "print(multiline)"
   ]
  },
  {
   "cell_type": "markdown",
   "metadata": {},
   "source": [
    "# Dictionary"
   ]
  },
  {
   "cell_type": "code",
   "execution_count": 101,
   "metadata": {},
   "outputs": [],
   "source": [
    "dic = { 'name': '나예호','age' : 21,'Tel' : '010-1234-1234'}"
   ]
  },
  {
   "cell_type": "code",
   "execution_count": 102,
   "metadata": {},
   "outputs": [
    {
     "name": "stdout",
     "output_type": "stream",
     "text": [
      "{'name': '나예호', 'age': 21, 'Tel': '010-1234-1234'}\n"
     ]
    }
   ],
   "source": [
    "print(dic)"
   ]
  },
  {
   "cell_type": "code",
   "execution_count": 105,
   "metadata": {},
   "outputs": [
    {
     "name": "stdout",
     "output_type": "stream",
     "text": [
      "나예호\n",
      "010-1234-1234\n"
     ]
    }
   ],
   "source": [
    "# name이라는 key값에 해당하는 Value\n",
    "print(dic['name'])\n",
    "print(dic.get('Tel'))"
   ]
  },
  {
   "cell_type": "code",
   "execution_count": 106,
   "metadata": {},
   "outputs": [],
   "source": [
    "# 딕셔너리명[key] = Value     >>>>딕셔너리 추가 할 수 있음.\n",
    "dic['addr'] = '광주 남구 CGI'"
   ]
  },
  {
   "cell_type": "code",
   "execution_count": 107,
   "metadata": {},
   "outputs": [
    {
     "name": "stdout",
     "output_type": "stream",
     "text": [
      "{'name': '나예호', 'age': 21, 'Tel': '010-1234-1234', 'addr': '광주 남구 CGI'}\n"
     ]
    }
   ],
   "source": [
    "print(dic)"
   ]
  },
  {
   "cell_type": "code",
   "execution_count": 112,
   "metadata": {},
   "outputs": [
    {
     "name": "stdout",
     "output_type": "stream",
     "text": [
      "['name', 'age', 'Tel', 'addr']\n",
      "['나예호', 21, '010-1234-1234', '광주 남구 CGI']\n"
     ]
    }
   ],
   "source": [
    "#딕셔너리 키 값만 출력\n",
    "list4 = list(dic.keys())   #list로 형변환!!\n",
    "list5 = list(dic.values())\n",
    "\n",
    "print(list4)\n",
    "print(list5)"
   ]
  },
  {
   "cell_type": "code",
   "execution_count": 113,
   "metadata": {},
   "outputs": [
    {
     "name": "stdout",
     "output_type": "stream",
     "text": [
      "True\n",
      "False\n"
     ]
    }
   ],
   "source": [
    "#key값 in 딕셔너리명\n",
    "#True of False\n",
    "print('name' in dic)   #'name'이 dic 안에 있나??\n",
    "print('birth' in dic)"
   ]
  },
  {
   "cell_type": "code",
   "execution_count": null,
   "metadata": {},
   "outputs": [],
   "source": []
  }
 ],
 "metadata": {
  "kernelspec": {
   "display_name": "Python 3",
   "language": "python",
   "name": "python3"
  },
  "language_info": {
   "codemirror_mode": {
    "name": "ipython",
    "version": 3
   },
   "file_extension": ".py",
   "mimetype": "text/x-python",
   "name": "python",
   "nbconvert_exporter": "python",
   "pygments_lexer": "ipython3",
   "version": "3.8.3"
  }
 },
 "nbformat": 4,
 "nbformat_minor": 4
}
